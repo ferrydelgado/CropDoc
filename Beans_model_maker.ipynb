{
  "nbformat": 4,
  "nbformat_minor": 0,
  "metadata": {
    "colab": {
      "name": "Beans model maker",
      "provenance": [],
      "private_outputs": true
    },
    "kernelspec": {
      "name": "python3",
      "display_name": "Python 3"
    }
  },
  "cells": [
    {
      "cell_type": "code",
      "metadata": {
        "id": "5BDTEMtexXE3"
      },
      "source": [
        "!pip install tflite-model-maker\n",
        "!pip install tensorflow-datasets -U"
      ],
      "execution_count": null,
      "outputs": []
    },
    {
      "cell_type": "code",
      "metadata": {
        "id": "nekG9Iwgxbx0"
      },
      "source": [
        "import tensorflow as tf\n",
        "import tensorflow_datasets as tfds\n",
        "\n",
        "from tflite_model_maker import configs\n",
        "from tflite_model_maker import image_classifier\n",
        "from tflite_model_maker import ImageClassifierDataLoader\n",
        "from tflite_model_maker import model_spec\n",
        "from tensorflow_examples.lite.model_maker.core.data_util import image_dataloader\n",
        "from tensorflow_examples.lite.model_maker.core.export_format import ExportFormat\n",
        "\n",
        "import matplotlib.pyplot as plt"
      ],
      "execution_count": null,
      "outputs": []
    },
    {
      "cell_type": "markdown",
      "metadata": {
        "id": "Cf6u6-6qxkyr"
      },
      "source": [
        "Lets use a public dataset of beans from https://www.tensorflow.org/datasets/catalog/beans"
      ]
    },
    {
      "cell_type": "code",
      "metadata": {
        "id": "TTaD5W_1xjUz"
      },
      "source": [
        "(ds_train, ds_validation, ds_test), ds_info = tfds.load(\n",
        "    name = 'beans', \n",
        "    split = ['train', 'validation', 'test'],\n",
        "    with_info = True)"
      ],
      "execution_count": null,
      "outputs": []
    },
    {
      "cell_type": "code",
      "metadata": {
        "id": "89GkD60Eyfe0"
      },
      "source": [
        "fig = tfds.show_examples(ds_train, ds_info)"
      ],
      "execution_count": null,
      "outputs": []
    },
    {
      "cell_type": "code",
      "metadata": {
        "id": "5UhNpR0Ex_5-"
      },
      "source": [
        "model_handle = \"https://tfhub.dev/google/cropnet/feature_vector/cassava_disease_V1/1\""
      ],
      "execution_count": null,
      "outputs": []
    },
    {
      "cell_type": "code",
      "metadata": {
        "id": "3dGVmbPJ9RxD"
      },
      "source": [
        "train_data, validation_data, test_data = ImageClassifierDataLoader.from_tfds('beans')"
      ],
      "execution_count": null,
      "outputs": []
    },
    {
      "cell_type": "code",
      "metadata": {
        "id": "L8P-VTqJ8GaF"
      },
      "source": [
        "cassava_spec = model_spec.ImageModelSpec(uri=model_handle)"
      ],
      "execution_count": null,
      "outputs": []
    },
    {
      "cell_type": "code",
      "metadata": {
        "id": "KRbSDbnA6Xap"
      },
      "source": [
        "model = image_classifier.create(train_data, model_spec=cassava_spec, epochs=5)"
      ],
      "execution_count": null,
      "outputs": []
    },
    {
      "cell_type": "code",
      "metadata": {
        "id": "OYIZ1rlV7lxm"
      },
      "source": [
        "loss, accuracy = model.evaluate(validation_data)"
      ],
      "execution_count": null,
      "outputs": []
    },
    {
      "cell_type": "code",
      "metadata": {
        "id": "bAFvBmMr7owW"
      },
      "source": [
        "model.export(export_dir='.', tflite_filename='beans_model.tflite')\n",
        "#model.export(export_dir='.', tflite_filename='model_quant.tflite', quantization_config=config)"
      ],
      "execution_count": null,
      "outputs": []
    },
    {
      "cell_type": "code",
      "metadata": {
        "id": "Z3kAXkec76He"
      },
      "source": [
        "model.evaluate_tflite('beans_model.tflite', test_data)"
      ],
      "execution_count": null,
      "outputs": []
    },
    {
      "cell_type": "code",
      "metadata": {
        "id": "Pz0-6To2C4yM"
      },
      "source": [
        "#export saved model version\n",
        "model.export(export_dir='.', export_format=ExportFormat.SAVED_MODEL)"
      ],
      "execution_count": null,
      "outputs": []
    }
  ]
}